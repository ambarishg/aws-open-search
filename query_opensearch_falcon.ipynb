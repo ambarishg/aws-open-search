{
 "cells": [
  {
   "cell_type": "code",
   "execution_count": 1,
   "metadata": {},
   "outputs": [],
   "source": [
    "from config import *"
   ]
  },
  {
   "cell_type": "code",
   "execution_count": 2,
   "metadata": {},
   "outputs": [],
   "source": [
    "# Model Settings\n",
    "MODEL_NAME=\"all-MiniLM-L6-v2\"\n",
    "user_input = \"What is Coelom ?\"\n",
    "\n",
    "########################\n",
    "region = 'us-east-1' \n",
    "index_name = 'ncert'\n",
    "service = 'es'\n",
    "aos_host = aos_host"
   ]
  },
  {
   "cell_type": "code",
   "execution_count": 3,
   "metadata": {},
   "outputs": [
    {
     "name": "stderr",
     "output_type": "stream",
     "text": [
      "c:\\Applications\\Anaconda\\lib\\site-packages\\scipy\\__init__.py:155: UserWarning: A NumPy version >=1.18.5 and <1.25.0 is required for this version of SciPy (detected version 1.25.2\n",
      "  warnings.warn(f\"A NumPy version >={np_minversion} and <{np_maxversion}\"\n"
     ]
    }
   ],
   "source": [
    "from opensearchpy import OpenSearch, RequestsHttpConnection, AWSV4SignerAuth\n",
    "import boto3\n",
    "from requests_aws4auth import AWS4Auth\n",
    "from sentence_transformers import SentenceTransformer\n",
    "import pandas as pd\n",
    "from azure_openai_helper import generate_answer_from_context"
   ]
  },
  {
   "cell_type": "code",
   "execution_count": 4,
   "metadata": {},
   "outputs": [],
   "source": [
    "credentials = boto3.Session().get_credentials()\n",
    "auth = AWSV4SignerAuth(credentials, region)\n"
   ]
  },
  {
   "cell_type": "code",
   "execution_count": 5,
   "metadata": {},
   "outputs": [],
   "source": [
    "awsauth = AWS4Auth(credentials.access_key, credentials.secret_key, region, service, session_token=credentials.token)"
   ]
  },
  {
   "cell_type": "code",
   "execution_count": 6,
   "metadata": {},
   "outputs": [],
   "source": [
    "aos_client = OpenSearch(\n",
    "    hosts = [{'host': aos_host, 'port': 443}],\n",
    "    http_auth = auth,\n",
    "    use_ssl = True,\n",
    "    verify_certs = True,\n",
    "    connection_class = RequestsHttpConnection\n",
    ")"
   ]
  },
  {
   "cell_type": "code",
   "execution_count": 7,
   "metadata": {},
   "outputs": [],
   "source": [
    "model = SentenceTransformer(MODEL_NAME)"
   ]
  },
  {
   "cell_type": "code",
   "execution_count": 8,
   "metadata": {},
   "outputs": [],
   "source": [
    "xq = model.encode([user_input],convert_to_tensor=True)\n",
    "xq_list = xq.tolist()"
   ]
  },
  {
   "cell_type": "code",
   "execution_count": 9,
   "metadata": {},
   "outputs": [
    {
     "data": {
      "text/plain": [
       "[-0.0300223920494318,\n",
       " 0.048663508147001266,\n",
       " -0.06351431459188461,\n",
       " 0.05529145896434784,\n",
       " -0.06406121701002121,\n",
       " -0.048028770834207535,\n",
       " -0.03190869837999344,\n",
       " 0.041287846863269806,\n",
       " -0.014191500842571259,\n",
       " 0.01002271194010973,\n",
       " 0.08567621558904648,\n",
       " -0.15061131119728088,\n",
       " -0.043759703636169434,\n",
       " 0.04378319904208183,\n",
       " -0.031019968912005424,\n",
       " -0.14232447743415833,\n",
       " 0.024583961814641953,\n",
       " -0.046959567815065384,\n",
       " -0.007293751463294029,\n",
       " 0.0032512149773538113,\n",
       " 0.03997112065553665,\n",
       " 0.04799468070268631,\n",
       " -0.004991478752344847,\n",
       " 0.043958742171525955,\n",
       " 0.02892758697271347,\n",
       " 0.02970418706536293,\n",
       " 0.003424725728109479,\n",
       " 0.033119771629571915,\n",
       " 0.05541950464248657,\n",
       " -0.020585814490914345,\n",
       " -0.051039811223745346,\n",
       " 0.017886526882648468,\n",
       " 0.04796173423528671,\n",
       " 0.009121406823396683,\n",
       " -0.04978470504283905,\n",
       " 0.03709445893764496,\n",
       " 0.004652613773941994,\n",
       " -0.0015409564366564155,\n",
       " 0.028834762051701546,\n",
       " -0.014467782340943813,\n",
       " -0.08200501650571823,\n",
       " 0.03564956784248352,\n",
       " 0.054847799241542816,\n",
       " -0.009968815371394157,\n",
       " -0.01536597404628992,\n",
       " 0.0343342050909996,\n",
       " -0.06304684281349182,\n",
       " 0.02476179227232933,\n",
       " 0.006448480300605297,\n",
       " 0.025409724563360214,\n",
       " -0.05344141274690628,\n",
       " -0.04849472641944885,\n",
       " 0.0014168517664074898,\n",
       " 0.10733113437891006,\n",
       " 0.014553731307387352,\n",
       " 0.02342064119875431,\n",
       " 0.008081590756773949,\n",
       " -0.0010881861671805382,\n",
       " 0.02047385647892952,\n",
       " 0.029878852888941765,\n",
       " 0.06044255197048187,\n",
       " -0.08919007331132889,\n",
       " -0.0355423241853714,\n",
       " 0.06926792114973068,\n",
       " 0.032046932727098465,\n",
       " -0.04471170902252197,\n",
       " -0.0001329730439465493,\n",
       " 0.014364880509674549,\n",
       " -0.011300117708742619,\n",
       " -0.04606713354587555,\n",
       " 0.04001907259225845,\n",
       " -0.058418046683073044,\n",
       " 0.03251087665557861,\n",
       " -0.027869999408721924,\n",
       " -0.0013725656317546964,\n",
       " 0.009287934750318527,\n",
       " -0.05804351344704628,\n",
       " -0.10000874847173691,\n",
       " 0.0384557880461216,\n",
       " 0.043900422751903534,\n",
       " 0.052393462508916855,\n",
       " 0.04550396278500557,\n",
       " -0.053687628358602524,\n",
       " -0.0018476297846063972,\n",
       " 0.01752582937479019,\n",
       " -0.016050118952989578,\n",
       " 0.027161937206983566,\n",
       " -0.08136185258626938,\n",
       " 0.04214490205049515,\n",
       " -0.05003923550248146,\n",
       " 0.01701461337506771,\n",
       " 0.03323983773589134,\n",
       " -0.02360951341688633,\n",
       " -0.015437332913279533,\n",
       " -0.13765570521354675,\n",
       " 0.10765286535024643,\n",
       " 0.008280769921839237,\n",
       " 0.0471748486161232,\n",
       " 0.0011018574004992843,\n",
       " 0.04027678444981575,\n",
       " -0.014779732562601566,\n",
       " 0.031623899936676025,\n",
       " 0.08160313963890076,\n",
       " 0.017921965569257736,\n",
       " -0.0801973044872284,\n",
       " -0.023774296045303345,\n",
       " 0.051164787262678146,\n",
       " 0.013031548820436,\n",
       " 0.012761273421347141,\n",
       " 0.012061459943652153,\n",
       " -0.022081201896071434,\n",
       " 0.008518440648913383,\n",
       " 0.028501639142632484,\n",
       " -0.03597605600953102,\n",
       " 0.07352049648761749,\n",
       " 0.085666723549366,\n",
       " 0.0782763734459877,\n",
       " 0.000142672608490102,\n",
       " 0.07238581031560898,\n",
       " 0.05875274911522865,\n",
       " 0.017148321494460106,\n",
       " 0.000797448621597141,\n",
       " -0.01764642633497715,\n",
       " 0.029201431199908257,\n",
       " 0.09733565896749496,\n",
       " 0.04330050200223923,\n",
       " -0.05691128596663475,\n",
       " -6.973789213566151e-33,\n",
       " 0.01630217954516411,\n",
       " -0.012764845043420792,\n",
       " -0.07666078954935074,\n",
       " 0.10092717409133911,\n",
       " -0.017339663580060005,\n",
       " -0.04477790743112564,\n",
       " -0.04771452024579048,\n",
       " 0.03461931273341179,\n",
       " -0.11919645965099335,\n",
       " 0.014053653925657272,\n",
       " -0.0064014955423772335,\n",
       " 0.034019920974969864,\n",
       " -0.030035892501473427,\n",
       " 0.09519222378730774,\n",
       " -0.009724562056362629,\n",
       " 0.004087687935680151,\n",
       " -0.012351238168776035,\n",
       " -0.00035815843148157,\n",
       " 0.015348181128501892,\n",
       " -0.026052512228488922,\n",
       " 0.06133965030312538,\n",
       " 0.071659617125988,\n",
       " 0.04122987762093544,\n",
       " -0.017309395596385002,\n",
       " 0.02070434018969536,\n",
       " -0.0544121116399765,\n",
       " 0.008196929469704628,\n",
       " 0.017322532832622528,\n",
       " 0.008348127827048302,\n",
       " 0.005288224201649427,\n",
       " 0.07690680772066116,\n",
       " 0.015831468626856804,\n",
       " -0.004483592696487904,\n",
       " -0.03974795341491699,\n",
       " 0.035867318511009216,\n",
       " 0.0605643093585968,\n",
       " -0.10006432980298996,\n",
       " -0.035342417657375336,\n",
       " -0.10886457562446594,\n",
       " 0.0738200694322586,\n",
       " 0.0480087511241436,\n",
       " -0.03821210935711861,\n",
       " -0.06674249470233917,\n",
       " 0.029526354745030403,\n",
       " 0.10240712016820908,\n",
       " -0.05168680474162102,\n",
       " -0.004537982400506735,\n",
       " 0.014709428884088993,\n",
       " 0.021617550402879715,\n",
       " 0.008792158216238022,\n",
       " 0.02795041911303997,\n",
       " 0.01070585660636425,\n",
       " -0.04761534556746483,\n",
       " -0.04771317169070244,\n",
       " -0.011666609905660152,\n",
       " 0.08171660453081131,\n",
       " -0.004254613537341356,\n",
       " -0.003896874375641346,\n",
       " -0.010683164931833744,\n",
       " 0.01842421665787697,\n",
       " -0.03229819983243942,\n",
       " 0.045227717608213425,\n",
       " -0.12810799479484558,\n",
       " 0.13174502551555634,\n",
       " -0.04814229905605316,\n",
       " -0.03746988996863365,\n",
       " -0.02730940841138363,\n",
       " -0.0024009868502616882,\n",
       " 0.07409802824258804,\n",
       " -0.0420009046792984,\n",
       " -0.057900700718164444,\n",
       " -0.05082908645272255,\n",
       " -0.03679729253053665,\n",
       " 0.0642349123954773,\n",
       " -0.00992467999458313,\n",
       " -0.009173518046736717,\n",
       " 0.00930977612733841,\n",
       " 0.013121592812240124,\n",
       " 0.054560039192438126,\n",
       " -0.05715501680970192,\n",
       " -0.09897872805595398,\n",
       " 0.049196187406778336,\n",
       " 0.04575154557824135,\n",
       " 0.1240987554192543,\n",
       " -0.03573964908719063,\n",
       " 0.003117011161521077,\n",
       " 0.023416884243488312,\n",
       " -0.025349842384457588,\n",
       " 0.015468383207917213,\n",
       " -0.06715754419565201,\n",
       " 0.0031801690347492695,\n",
       " 0.00962251890450716,\n",
       " 0.0200178325176239,\n",
       " -0.07697203755378723,\n",
       " -0.023461248725652695,\n",
       " 4.251532376157865e-33,\n",
       " 0.05949641391634941,\n",
       " -0.0895228385925293,\n",
       " -0.031343236565589905,\n",
       " -0.02352086454629898,\n",
       " -0.025790976360440254,\n",
       " 0.07937762141227722,\n",
       " -0.02715951018035412,\n",
       " 0.04748747497797012,\n",
       " 0.04927999526262283,\n",
       " -0.06008150801062584,\n",
       " 0.05516624078154564,\n",
       " 0.0008144558523781598,\n",
       " 0.11131750792264938,\n",
       " -0.020647915080189705,\n",
       " 0.10166440159082413,\n",
       " 0.03266509622335434,\n",
       " 0.07319271564483643,\n",
       " -0.02206259034574032,\n",
       " -0.021866366267204285,\n",
       " -0.019823547452688217,\n",
       " -0.05576169118285179,\n",
       " 0.06754609942436218,\n",
       " 0.0817229226231575,\n",
       " -0.1291065216064453,\n",
       " -0.04011310636997223,\n",
       " 0.012829002924263477,\n",
       " 0.05686262622475624,\n",
       " -0.01983669400215149,\n",
       " -0.05142323300242424,\n",
       " 0.07374776899814606,\n",
       " -0.030657920986413956,\n",
       " -0.046863578259944916,\n",
       " 0.01825498417019844,\n",
       " 0.04685823619365692,\n",
       " -0.007378180976957083,\n",
       " 0.09957163035869598,\n",
       " -0.017341336235404015,\n",
       " -0.07519861310720444,\n",
       " -0.07088291645050049,\n",
       " -0.02386556752026081,\n",
       " -0.045574039220809937,\n",
       " 0.021890057250857353,\n",
       " -0.030036861076951027,\n",
       " 0.04905525967478752,\n",
       " 0.027141977101564407,\n",
       " -0.04664584994316101,\n",
       " -0.014341110363602638,\n",
       " -0.07659824192523956,\n",
       " -0.06904805451631546,\n",
       " 0.006852678954601288,\n",
       " -0.021603738889098167,\n",
       " -0.05744825676083565,\n",
       " -0.05488714203238487,\n",
       " -0.0822540745139122,\n",
       " 0.015876753255724907,\n",
       " -0.03695497289299965,\n",
       " -0.025314396247267723,\n",
       " -0.05420763045549393,\n",
       " 0.02301940508186817,\n",
       " -0.0013290829956531525,\n",
       " 0.023229798302054405,\n",
       " 0.02412012591958046,\n",
       " 0.010677516460418701,\n",
       " 0.03837979957461357,\n",
       " 0.0602717362344265,\n",
       " 0.06365495920181274,\n",
       " -0.0701703131198883,\n",
       " -0.10009897500276566,\n",
       " 0.045035552233457565,\n",
       " 0.03367287665605545,\n",
       " 0.08565812557935715,\n",
       " 0.054955385625362396,\n",
       " -0.04095200076699257,\n",
       " -0.04010181874036789,\n",
       " -0.04882947355508804,\n",
       " -0.05889621749520302,\n",
       " -0.03234869986772537,\n",
       " 0.04008344188332558,\n",
       " -0.09177140891551971,\n",
       " -0.014061768539249897,\n",
       " -0.05139053985476494,\n",
       " -0.03791024908423424,\n",
       " 0.01008133590221405,\n",
       " 0.020778140053153038,\n",
       " 0.01005716621875763,\n",
       " -0.09985113143920898,\n",
       " -0.08580847829580307,\n",
       " -0.004061337094753981,\n",
       " 0.058209314942359924,\n",
       " 0.09119631350040436,\n",
       " -0.041695065796375275,\n",
       " 6.887265044497326e-05,\n",
       " -0.034566476941108704,\n",
       " -0.03556293621659279,\n",
       " 0.1052011027932167,\n",
       " -1.3836467083194748e-08,\n",
       " 0.047922924160957336,\n",
       " 0.03326600417494774,\n",
       " -0.03602627292275429,\n",
       " -0.05364108830690384,\n",
       " 0.05416799709200859,\n",
       " -0.008241196162998676,\n",
       " 0.03386758267879486,\n",
       " -0.13617318868637085,\n",
       " 0.02157253585755825,\n",
       " 0.12795989215373993,\n",
       " -0.03918521851301193,\n",
       " 0.043289512395858765,\n",
       " 0.06804552674293518,\n",
       " 0.009172639809548855,\n",
       " 0.037999074906110764,\n",
       " 0.007796905934810638,\n",
       " 0.03571055456995964,\n",
       " -0.002238469896838069,\n",
       " -0.06898213177919388,\n",
       " 0.009187153540551662,\n",
       " -0.009581697173416615,\n",
       " 0.006731553003191948,\n",
       " 0.0214267335832119,\n",
       " -0.04019007831811905,\n",
       " 0.005831704940646887,\n",
       " -0.05057752504944801,\n",
       " -0.0527535080909729,\n",
       " 0.01221262663602829,\n",
       " -0.04368366673588753,\n",
       " -0.05143040418624878,\n",
       " 0.016139747574925423,\n",
       " 0.07556509971618652,\n",
       " 0.05083772912621498,\n",
       " -0.0312334131449461,\n",
       " -0.04781651869416237,\n",
       " 0.043054111301898956,\n",
       " 0.09081942588090897,\n",
       " -0.043731480836868286,\n",
       " -0.10313447564840317,\n",
       " -0.02338472381234169,\n",
       " 0.008689545094966888,\n",
       " -0.006925694644451141,\n",
       " 0.030209999531507492,\n",
       " -1.7616672266740352e-05,\n",
       " 0.06650345772504807,\n",
       " 0.005143025424331427,\n",
       " 0.04070515185594559,\n",
       " 0.04714500531554222,\n",
       " 0.05419381335377693,\n",
       " 0.048219408839941025,\n",
       " -0.020923789590597153,\n",
       " 0.029152659699320793,\n",
       " -0.019520923495292664,\n",
       " 0.05701921135187149,\n",
       " -0.0020542216952890158,\n",
       " -0.06063621863722801,\n",
       " -0.018959110602736473,\n",
       " -6.877920895931311e-06,\n",
       " -0.038058068603277206,\n",
       " 0.0007205717265605927,\n",
       " 0.09044188261032104,\n",
       " 0.016574516892433167,\n",
       " 0.09321347624063492,\n",
       " -0.09715219587087631]"
      ]
     },
     "execution_count": 9,
     "metadata": {},
     "output_type": "execute_result"
    }
   ],
   "source": [
    "xq_list[0]"
   ]
  },
  {
   "cell_type": "code",
   "execution_count": 10,
   "metadata": {},
   "outputs": [],
   "source": [
    "query={\n",
    "    \"size\": 10,\n",
    "    \"query\": {\n",
    "        \"knn\": {\n",
    "            \"text_vector\":{\n",
    "                \"vector\":xq_list[0],\n",
    "                \"k\":10\n",
    "            }\n",
    "        }\n",
    "    }\n",
    "}\n",
    "\n",
    "res = aos_client.search(index=index_name, \n",
    "                       body=query,\n",
    "                       stored_fields=[\"text\"])"
   ]
  },
  {
   "cell_type": "code",
   "execution_count": 11,
   "metadata": {},
   "outputs": [
    {
     "name": "stdout",
     "output_type": "stream",
     "text": [
      "Got 50 Hits:\n"
     ]
    }
   ],
   "source": [
    "print(\"Got %d Hits:\" % res['hits']['total']['value'])"
   ]
  },
  {
   "cell_type": "code",
   "execution_count": 12,
   "metadata": {},
   "outputs": [],
   "source": [
    "query_result=[]\n",
    "contexts =\"\""
   ]
  },
  {
   "cell_type": "code",
   "execution_count": 13,
   "metadata": {},
   "outputs": [],
   "source": [
    "counter = 0"
   ]
  },
  {
   "cell_type": "code",
   "execution_count": 14,
   "metadata": {},
   "outputs": [],
   "source": [
    "for hit in res['hits']['hits']:\n",
    "        if counter > 3:\n",
    "            break\n",
    "        contexts +=  hit['fields']['text'][0]+\"\\n---\\n\"\n",
    "        counter += 1"
   ]
  },
  {
   "cell_type": "code",
   "execution_count": 15,
   "metadata": {},
   "outputs": [
    {
     "data": {
      "text/plain": [
       "str"
      ]
     },
     "execution_count": 15,
     "metadata": {},
     "output_type": "execute_result"
    }
   ],
   "source": [
    "type(contexts)"
   ]
  },
  {
   "cell_type": "code",
   "execution_count": 16,
   "metadata": {},
   "outputs": [],
   "source": [
    "for hit in res['hits']['hits']:\n",
    "    row=[hit['_id'],hit['_score'],hit['fields']['text'][0]]\n",
    "    query_result.append(row)"
   ]
  },
  {
   "cell_type": "code",
   "execution_count": 17,
   "metadata": {},
   "outputs": [],
   "source": [
    "query_result_df = pd.DataFrame(data=query_result,columns=[\"_id\",\"_score\",\"text\"])"
   ]
  },
  {
   "cell_type": "code",
   "execution_count": 18,
   "metadata": {},
   "outputs": [
    {
     "data": {
      "text/html": [
       "<div>\n",
       "<style scoped>\n",
       "    .dataframe tbody tr th:only-of-type {\n",
       "        vertical-align: middle;\n",
       "    }\n",
       "\n",
       "    .dataframe tbody tr th {\n",
       "        vertical-align: top;\n",
       "    }\n",
       "\n",
       "    .dataframe thead th {\n",
       "        text-align: right;\n",
       "    }\n",
       "</style>\n",
       "<table border=\"1\" class=\"dataframe\">\n",
       "  <thead>\n",
       "    <tr style=\"text-align: right;\">\n",
       "      <th></th>\n",
       "      <th>_id</th>\n",
       "      <th>_score</th>\n",
       "      <th>text</th>\n",
       "    </tr>\n",
       "  </thead>\n",
       "  <tbody>\n",
       "    <tr>\n",
       "      <th>0</th>\n",
       "      <td>yhFl6okBM2uON6ywYSO2</td>\n",
       "      <td>0.710878</td>\n",
       "      <td>1 (a)  Radial symmetry\\nRationalised 2023-24\\n...</td>\n",
       "    </tr>\n",
       "    <tr>\n",
       "      <th>1</th>\n",
       "      <td>yxFl6okBM2uON6ywYiPJ</td>\n",
       "      <td>0.625027</td>\n",
       "      <td>In\\nsome animals, the body cavity is not line...</td>\n",
       "    </tr>\n",
       "    <tr>\n",
       "      <th>2</th>\n",
       "      <td>zBFl6okBM2uON6ywYyPP</td>\n",
       "      <td>0.623741</td>\n",
       "      <td>3 Diagrammatic sectional view of :\\n(a) Coelom...</td>\n",
       "    </tr>\n",
       "    <tr>\n",
       "      <th>3</th>\n",
       "      <td>1BFl6okBM2uON6ywbCMk</td>\n",
       "      <td>0.619165</td>\n",
       "      <td>6 Examples of  Coelenterata indicating outline...</td>\n",
       "    </tr>\n",
       "    <tr>\n",
       "      <th>4</th>\n",
       "      <td>5BFl6okBM2uON6ywfiOt</td>\n",
       "      <td>0.581922</td>\n",
       "      <td>\\nThis phylum consists of a small group of wor...</td>\n",
       "    </tr>\n",
       "    <tr>\n",
       "      <th>5</th>\n",
       "      <td>5hFl6okBM2uON6ywgCO6</td>\n",
       "      <td>0.577049</td>\n",
       "      <td>These are bilaterally\\nsymmetrical, triplobla...</td>\n",
       "    </tr>\n",
       "    <tr>\n",
       "      <th>6</th>\n",
       "      <td>9hFl6okBM2uON6ywkiNf</td>\n",
       "      <td>0.568989</td>\n",
       "      <td>Endoskeleton is fully ossified (bony) and the...</td>\n",
       "    </tr>\n",
       "    <tr>\n",
       "      <th>7</th>\n",
       "      <td>ARFl6okBM2uON6ywoCQY</td>\n",
       "      <td>0.566587</td>\n",
       "      <td>Aschelminthes are\\npseudocoelomates and  incl...</td>\n",
       "    </tr>\n",
       "    <tr>\n",
       "      <th>8</th>\n",
       "      <td>9xFl6okBM2uON6ywlCOX</td>\n",
       "      <td>0.565867</td>\n",
       "      <td>Air sacs connected to lungs supplement respir...</td>\n",
       "    </tr>\n",
       "    <tr>\n",
       "      <th>9</th>\n",
       "      <td>yBFl6okBM2uON6ywXyOl</td>\n",
       "      <td>0.563390</td>\n",
       "      <td>, any plane that passes through the centre\\ndo...</td>\n",
       "    </tr>\n",
       "  </tbody>\n",
       "</table>\n",
       "</div>"
      ],
      "text/plain": [
       "                    _id    _score  \\\n",
       "0  yhFl6okBM2uON6ywYSO2  0.710878   \n",
       "1  yxFl6okBM2uON6ywYiPJ  0.625027   \n",
       "2  zBFl6okBM2uON6ywYyPP  0.623741   \n",
       "3  1BFl6okBM2uON6ywbCMk  0.619165   \n",
       "4  5BFl6okBM2uON6ywfiOt  0.581922   \n",
       "5  5hFl6okBM2uON6ywgCO6  0.577049   \n",
       "6  9hFl6okBM2uON6ywkiNf  0.568989   \n",
       "7  ARFl6okBM2uON6ywoCQY  0.566587   \n",
       "8  9xFl6okBM2uON6ywlCOX  0.565867   \n",
       "9  yBFl6okBM2uON6ywXyOl  0.563390   \n",
       "\n",
       "                                                text  \n",
       "0  1 (a)  Radial symmetry\\nRationalised 2023-24\\n...  \n",
       "1   In\\nsome animals, the body cavity is not line...  \n",
       "2  3 Diagrammatic sectional view of :\\n(a) Coelom...  \n",
       "3  6 Examples of  Coelenterata indicating outline...  \n",
       "4  \\nThis phylum consists of a small group of wor...  \n",
       "5   These are bilaterally\\nsymmetrical, triplobla...  \n",
       "6   Endoskeleton is fully ossified (bony) and the...  \n",
       "7   Aschelminthes are\\npseudocoelomates and  incl...  \n",
       "8   Air sacs connected to lungs supplement respir...  \n",
       "9  , any plane that passes through the centre\\ndo...  "
      ]
     },
     "metadata": {},
     "output_type": "display_data"
    }
   ],
   "source": [
    "display(query_result_df)"
   ]
  },
  {
   "cell_type": "code",
   "execution_count": 19,
   "metadata": {},
   "outputs": [
    {
     "data": {
      "text/plain": [
       "1666"
      ]
     },
     "execution_count": 19,
     "metadata": {},
     "output_type": "execute_result"
    }
   ],
   "source": [
    "len(contexts)"
   ]
  },
  {
   "cell_type": "code",
   "execution_count": 20,
   "metadata": {},
   "outputs": [
    {
     "name": "stdout",
     "output_type": "stream",
     "text": [
      "('1 (a)  Radial symmetry\\n'\n",
      " 'Rationalised 2023-24\\n'\n",
      " 'ANIMAL KINGDOM 3939\\n'\n",
      " '4.1.4 Coelom\\n'\n",
      " 'Presence or absence of a cavity between the body\\n'\n",
      " 'wall and the gut wall is very important in\\n'\n",
      " 'classification. The body cavity, which is lined\\n'\n",
      " 'by mesoderm is called coelom . Animals\\n'\n",
      " 'possessing coelom are called coelomates,  e.g.,\\n'\n",
      " 'annelids, molluscs, arthropods, echinoderms,\\n'\n",
      " 'hemichordates and chordates (Figure 4.3a)\\n'\n",
      " '---\\n'\n",
      " ' In\\n'\n",
      " 'some animals, the body cavity is not lined by\\n'\n",
      " 'mesoderm, instead, the mesoderm is present as\\n'\n",
      " 'scattered pouches in between the ectoderm and\\n'\n",
      " 'endoderm. Such a body cavity is called\\n'\n",
      " 'pseudocoelom and the animals possessing them\\n'\n",
      " 'are called pseudocoelomates,  e.g.,\\n'\n",
      " 'aschelminthes (Figure 4.3b). The animals in\\n'\n",
      " 'which the body cavity is absent are called\\n'\n",
      " 'acoelomates,  e.g., platyhelminthes (Figure 4.3c).Figure 4\\n'\n",
      " '---\\n'\n",
      " '3 Diagrammatic sectional view of :\\n'\n",
      " '(a) Coelomate (b) Pseudocoelomate\\n'\n",
      " '(c) AcoelomateThose animals in which the developing embryo has a thir d '\n",
      " 'germinal layer ,\\n'\n",
      " 'mesoderm , in between the ectoderm and endoderm, are called\\n'\n",
      " 'triploblastic  animals (platyhelminthes to chordates, Figure 4.2b).\\n'\n",
      " '4.1.5 Segmentation\\n'\n",
      " 'In some animals, the body is externally and internally divided into\\n'\n",
      " 'segments with a serial repetition of at least some organs\\n'\n",
      " '---\\n'\n",
      " '6 Examples of  Coelenterata indicating outline of their body form :\\n'\n",
      " '(a) Aurelia  (Medusa) (b) Adamsia (Polyp)\\n'\n",
      " '(b) (a)Examples: Sycon  (Scypha), Spongilla (Fresh water sponge)  and '\n",
      " 'Euspongia\\n'\n",
      " '(Bath sponge).\\n'\n",
      " '4.2.2 Phylum – Coelenterata (Cnidaria)\\n'\n",
      " 'They are aquatic, mostly marine, sessile or free-swimming, radially\\n'\n",
      " 'symmetrical animals (Figure 4.6). The name cnidaria is derived from the\\n'\n",
      " 'Rationalised 2023-24\\n'\n",
      " '42 BIOLOGY\\n'\n",
      " '4.2\\n'\n",
      " '---\\n')\n"
     ]
    }
   ],
   "source": [
    "from pprint import pprint\n",
    "pprint(contexts)"
   ]
  },
  {
   "cell_type": "code",
   "execution_count": 21,
   "metadata": {},
   "outputs": [],
   "source": [
    "import sagemaker"
   ]
  },
  {
   "cell_type": "code",
   "execution_count": 22,
   "metadata": {},
   "outputs": [],
   "source": [
    "prompt = \"\"\"Answer based on context:\\n\\n{context}\\n\\n{question}\"\"\""
   ]
  },
  {
   "cell_type": "code",
   "execution_count": 23,
   "metadata": {},
   "outputs": [],
   "source": [
    "text_input = prompt.replace(\"{context}\", contexts)\n",
    "text_input = text_input.replace(\"{question}\", user_input)"
   ]
  },
  {
   "cell_type": "code",
   "execution_count": 24,
   "metadata": {},
   "outputs": [
    {
     "name": "stdout",
     "output_type": "stream",
     "text": [
      "('Answer based on context:\\n'\n",
      " '\\n'\n",
      " '1 (a)  Radial symmetry\\n'\n",
      " 'Rationalised 2023-24\\n'\n",
      " 'ANIMAL KINGDOM 3939\\n'\n",
      " '4.1.4 Coelom\\n'\n",
      " 'Presence or absence of a cavity between the body\\n'\n",
      " 'wall and the gut wall is very important in\\n'\n",
      " 'classification. The body cavity, which is lined\\n'\n",
      " 'by mesoderm is called coelom . Animals\\n'\n",
      " 'possessing coelom are called coelomates,  e.g.,\\n'\n",
      " 'annelids, molluscs, arthropods, echinoderms,\\n'\n",
      " 'hemichordates and chordates (Figure 4.3a)\\n'\n",
      " '---\\n'\n",
      " ' In\\n'\n",
      " 'some animals, the body cavity is not lined by\\n'\n",
      " 'mesoderm, instead, the mesoderm is present as\\n'\n",
      " 'scattered pouches in between the ectoderm and\\n'\n",
      " 'endoderm. Such a body cavity is called\\n'\n",
      " 'pseudocoelom and the animals possessing them\\n'\n",
      " 'are called pseudocoelomates,  e.g.,\\n'\n",
      " 'aschelminthes (Figure 4.3b). The animals in\\n'\n",
      " 'which the body cavity is absent are called\\n'\n",
      " 'acoelomates,  e.g., platyhelminthes (Figure 4.3c).Figure 4\\n'\n",
      " '---\\n'\n",
      " '3 Diagrammatic sectional view of :\\n'\n",
      " '(a) Coelomate (b) Pseudocoelomate\\n'\n",
      " '(c) AcoelomateThose animals in which the developing embryo has a thir d '\n",
      " 'germinal layer ,\\n'\n",
      " 'mesoderm , in between the ectoderm and endoderm, are called\\n'\n",
      " 'triploblastic  animals (platyhelminthes to chordates, Figure 4.2b).\\n'\n",
      " '4.1.5 Segmentation\\n'\n",
      " 'In some animals, the body is externally and internally divided into\\n'\n",
      " 'segments with a serial repetition of at least some organs\\n'\n",
      " '---\\n'\n",
      " '6 Examples of  Coelenterata indicating outline of their body form :\\n'\n",
      " '(a) Aurelia  (Medusa) (b) Adamsia (Polyp)\\n'\n",
      " '(b) (a)Examples: Sycon  (Scypha), Spongilla (Fresh water sponge)  and '\n",
      " 'Euspongia\\n'\n",
      " '(Bath sponge).\\n'\n",
      " '4.2.2 Phylum – Coelenterata (Cnidaria)\\n'\n",
      " 'They are aquatic, mostly marine, sessile or free-swimming, radially\\n'\n",
      " 'symmetrical animals (Figure 4.6). The name cnidaria is derived from the\\n'\n",
      " 'Rationalised 2023-24\\n'\n",
      " '42 BIOLOGY\\n'\n",
      " '4.2\\n'\n",
      " '---\\n'\n",
      " '\\n'\n",
      " '\\n'\n",
      " 'What is Coelom ?')\n"
     ]
    }
   ],
   "source": [
    "pprint(text_input)"
   ]
  },
  {
   "cell_type": "code",
   "execution_count": 25,
   "metadata": {},
   "outputs": [],
   "source": [
    "# hyperparameters for llm\n",
    "payload = {\n",
    "    \"inputs\": text_input,\n",
    "    \"parameters\": {\n",
    "        \"do_sample\": True,\n",
    "        \"top_p\": 0.9,\n",
    "        \"temperature\": 0.1,\n",
    "        \"max_new_tokens\": 1024,\n",
    "        \"stop\": [\"<|endoftext|>\", \"</s>\"],\n",
    "    },\n",
    "}"
   ]
  },
  {
   "cell_type": "code",
   "execution_count": 26,
   "metadata": {},
   "outputs": [
    {
     "data": {
      "text/plain": [
       "{'inputs': 'Answer based on context:\\n\\n1 (a)  Radial symmetry\\nRationalised 2023-24\\nANIMAL KINGDOM 3939\\n4.1.4 Coelom\\nPresence or absence of a cavity between the body\\nwall and the gut wall is very important in\\nclassification. The body cavity, which is lined\\nby mesoderm is called coelom . Animals\\npossessing coelom are called coelomates,  e.g.,\\nannelids, molluscs, arthropods, echinoderms,\\nhemichordates and chordates (Figure 4.3a)\\n---\\n In\\nsome animals, the body cavity is not lined by\\nmesoderm, instead, the mesoderm is present as\\nscattered pouches in between the ectoderm and\\nendoderm. Such a body cavity is called\\npseudocoelom and the animals possessing them\\nare called pseudocoelomates,  e.g.,\\naschelminthes (Figure 4.3b). The animals in\\nwhich the body cavity is absent are called\\nacoelomates,  e.g., platyhelminthes (Figure 4.3c).Figure 4\\n---\\n3 Diagrammatic sectional view of :\\n(a) Coelomate (b) Pseudocoelomate\\n(c) AcoelomateThose animals in which the developing embryo has a thir d germinal layer ,\\nmesoderm , in between the ectoderm and endoderm, are called\\ntriploblastic  animals (platyhelminthes to chordates, Figure 4.2b).\\n4.1.5 Segmentation\\nIn some animals, the body is externally and internally divided into\\nsegments with a serial repetition of at least some organs\\n---\\n6 Examples of  Coelenterata indicating outline of their body form :\\n(a) Aurelia  (Medusa) (b) Adamsia (Polyp)\\n(b) (a)Examples: Sycon  (Scypha), Spongilla (Fresh water sponge)  and Euspongia\\n(Bath sponge).\\n4.2.2 Phylum – Coelenterata (Cnidaria)\\nThey are aquatic, mostly marine, sessile or free-swimming, radially\\nsymmetrical animals (Figure 4.6). The name cnidaria is derived from the\\nRationalised 2023-24\\n42 BIOLOGY\\n4.2\\n---\\n\\n\\nWhat is Coelom ?',\n",
       " 'parameters': {'do_sample': True,\n",
       "  'top_p': 0.9,\n",
       "  'temperature': 0.1,\n",
       "  'max_new_tokens': 1024,\n",
       "  'stop': ['<|endoftext|>', '</s>']}}"
      ]
     },
     "execution_count": 26,
     "metadata": {},
     "output_type": "execute_result"
    }
   ],
   "source": [
    "payload"
   ]
  },
  {
   "cell_type": "code",
   "execution_count": 27,
   "metadata": {},
   "outputs": [],
   "source": [
    "endpoint_name = llm_endpoint"
   ]
  },
  {
   "cell_type": "code",
   "execution_count": 28,
   "metadata": {},
   "outputs": [
    {
     "data": {
      "text/plain": [
       "'hf-llm-falcon-7b-instruct-bf16-2023-08-12-14-37-19-114'"
      ]
     },
     "execution_count": 28,
     "metadata": {},
     "output_type": "execute_result"
    }
   ],
   "source": [
    "endpoint_name"
   ]
  },
  {
   "cell_type": "code",
   "execution_count": 29,
   "metadata": {},
   "outputs": [],
   "source": [
    "def query_endpoint_with_json_payload(encoded_json, endpoint_name, content_type=\"application/json\"):\n",
    "    client = boto3.client(\"runtime.sagemaker\")\n",
    "    response = client.invoke_endpoint(\n",
    "        EndpointName=endpoint_name, ContentType=content_type, Body=encoded_json\n",
    "    )\n",
    "    return response"
   ]
  },
  {
   "cell_type": "code",
   "execution_count": 30,
   "metadata": {},
   "outputs": [],
   "source": [
    "import json"
   ]
  },
  {
   "cell_type": "code",
   "execution_count": 31,
   "metadata": {},
   "outputs": [],
   "source": [
    "response2 = query_endpoint_with_json_payload(json.dumps(payload).encode(\"utf-8\"), endpoint_name)"
   ]
  },
  {
   "cell_type": "code",
   "execution_count": null,
   "metadata": {},
   "outputs": [],
   "source": [
    "model_predictions = json.loads(response2[\"Body\"].read())"
   ]
  },
  {
   "cell_type": "code",
   "execution_count": null,
   "metadata": {},
   "outputs": [],
   "source": [
    "model_predictions[0]['generated_text']"
   ]
  },
  {
   "cell_type": "code",
   "execution_count": null,
   "metadata": {},
   "outputs": [],
   "source": []
  }
 ],
 "metadata": {
  "kernelspec": {
   "display_name": "base",
   "language": "python",
   "name": "python3"
  },
  "language_info": {
   "codemirror_mode": {
    "name": "ipython",
    "version": 3
   },
   "file_extension": ".py",
   "mimetype": "text/x-python",
   "name": "python",
   "nbconvert_exporter": "python",
   "pygments_lexer": "ipython3",
   "version": "3.9.13"
  },
  "orig_nbformat": 4
 },
 "nbformat": 4,
 "nbformat_minor": 2
}
