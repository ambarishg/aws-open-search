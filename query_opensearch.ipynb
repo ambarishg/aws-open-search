{
 "cells": [
  {
   "cell_type": "code",
   "execution_count": null,
   "metadata": {},
   "outputs": [],
   "source": [
    "from config import *"
   ]
  },
  {
   "cell_type": "code",
   "execution_count": 26,
   "metadata": {},
   "outputs": [],
   "source": [
    "# Model Settings\n",
    "MODEL_NAME=\"all-MiniLM-L6-v2\"\n",
    "user_input = \"What is Coelom\"\n",
    "\n",
    "########################\n",
    "region = 'us-east-1' \n",
    "index_name = 'ncert'\n",
    "service = 'es'\n",
    "aos_host = aos_host"
   ]
  },
  {
   "cell_type": "code",
   "execution_count": 27,
   "metadata": {},
   "outputs": [],
   "source": [
    "from opensearchpy import OpenSearch, RequestsHttpConnection, AWSV4SignerAuth\n",
    "import boto3\n",
    "from requests_aws4auth import AWS4Auth\n",
    "from sentence_transformers import SentenceTransformer\n",
    "import pandas as pd\n",
    "from azure_openai_helper import generate_answer_from_context"
   ]
  },
  {
   "cell_type": "code",
   "execution_count": 28,
   "metadata": {},
   "outputs": [],
   "source": [
    "credentials = boto3.Session().get_credentials()\n",
    "auth = AWSV4SignerAuth(credentials, region)\n"
   ]
  },
  {
   "cell_type": "code",
   "execution_count": 29,
   "metadata": {},
   "outputs": [],
   "source": [
    "awsauth = AWS4Auth(credentials.access_key, credentials.secret_key, region, service, session_token=credentials.token)"
   ]
  },
  {
   "cell_type": "code",
   "execution_count": 30,
   "metadata": {},
   "outputs": [],
   "source": [
    "aos_client = OpenSearch(\n",
    "    hosts = [{'host': aos_host, 'port': 443}],\n",
    "    http_auth = auth,\n",
    "    use_ssl = True,\n",
    "    verify_certs = True,\n",
    "    connection_class = RequestsHttpConnection\n",
    ")"
   ]
  },
  {
   "cell_type": "code",
   "execution_count": 31,
   "metadata": {},
   "outputs": [],
   "source": [
    "model = SentenceTransformer(MODEL_NAME)"
   ]
  },
  {
   "cell_type": "code",
   "execution_count": 32,
   "metadata": {},
   "outputs": [],
   "source": [
    "xq = model.encode([user_input],convert_to_tensor=True)\n",
    "xq_list = xq.tolist()"
   ]
  },
  {
   "cell_type": "code",
   "execution_count": 33,
   "metadata": {},
   "outputs": [
    {
     "data": {
      "text/plain": [
       "[-0.042863715440034866, 0.041995562613010406, -0.056733760982751846, 0.027966050431132317, -0.03282560035586357, -0.053680047392845154, -0.053033631294965744, 0.02711592987179756, -0.0007371108513325453, 0.026679690927267075, 0.05748998746275902, -0.14638976752758026, -0.042849037796258926, 0.05368601158261299, -0.022275950759649277, -0.1332804411649704, 0.0108184814453125, -0.05613688379526138, 0.0021505674812942743, 0.008198272436857224, 0.03028068318963051, 0.038957685232162476, -0.019268125295639038, 0.025642411783337593, 0.044883161783218384, 0.03785828500986099, 0.025045769289135933, 0.030045848339796066, 0.046761654317379, -0.014629685319960117, -0.04331487789750099, -0.013703132048249245, 0.0323970727622509, 0.015361163765192032, -0.044113971292972565, 0.01904839463531971, 0.012730293907225132, -0.015088694170117378, 0.009063957259058952, -0.019090885296463966, -0.07781611382961273, 0.0628509670495987, 0.06096912547945976, -0.006804461590945721, -0.013890428468585014, 0.026120483875274658, -0.054838042706251144, 0.014931141398847103, -0.004065569490194321, 0.034065958112478256, -0.05738481879234314, -0.03577572479844093, 0.029440036043524742, 0.10145044326782227, 0.002573280828073621, 0.014039124362170696, 0.016445288434624672, 0.0065122805535793304, 0.023920465260744095, 0.01912613958120346, 0.05519604682922363, -0.11939263343811035, -0.00840753223747015, 0.05318141356110573, 0.009181271307170391, -0.02307811565697193, -0.002834049751982093, 0.010922510176897049, -0.015402227640151978, -0.033692747354507446, 0.02895417995750904, -0.03486764430999756, 0.018829790875315666, -0.04082266986370087, -0.0033216984011232853, 0.04254082590341568, -0.07610905170440674, -0.11423306167125702, 0.04479523375630379, 0.04599287733435631, 0.06445381045341492, 0.02204551175236702, -0.06627020239830017, -0.009526660665869713, 0.017521223053336143, -0.02135414630174637, 0.01179951336234808, -0.0944262146949768, 0.05253583565354347, -0.050587110221385956, 0.0335155613720417, 0.056858666241168976, -0.011089691892266273, -0.01443518977612257, -0.1479215919971466, 0.12023956328630447, 0.010055269114673138, 0.056698188185691833, 0.013779022730886936, 0.044262684881687164, -0.021830018609762192, 0.0368184894323349, 0.0805465504527092, 0.011501586996018887, -0.06779425591230392, -0.010359340347349644, 0.06151147559285164, 0.015931732952594757, 0.000553714984562248, 0.013220303691923618, 0.019919808954000473, 0.014243659563362598, 0.033461861312389374, -0.03795505315065384, 0.07206618785858154, 0.06858091056346893, 0.08278215676546097, 0.009884083643555641, 0.07093603163957596, 0.05689993128180504, 0.0004804499330930412, 0.011003632098436356, -0.007689597550779581, 0.03333868086338043, 0.12835374474525452, 0.05950205773115158, -0.0488165058195591, -6.264875019208123e-33, 0.023905770853161812, 0.013729630038142204, -0.10437913984060287, 0.08871825039386749, -0.0333934985101223, -0.042153969407081604, -0.04516979306936264, 0.057114437222480774, -0.11735144257545471, 0.01756133697926998, -0.010771632194519043, 0.04751066863536835, -0.01758408732712269, 0.08886850625276566, -0.0181136354804039, 0.0010773297399282455, 0.013976521790027618, -0.0142081119120121, 0.003481759689748287, -0.03241061419248581, 0.07260438799858093, 0.02484223060309887, 0.040504492819309235, -0.017326276749372482, 0.02651217393577099, -0.06614815443754196, 0.021831071004271507, 0.036030881106853485, 0.004469720646739006, -0.011995178647339344, 0.0647946447134018, 0.0014652430545538664, 0.014314376749098301, -0.03520798683166504, 0.022814711555838585, 0.042644113302230835, -0.11759885400533676, -0.005249991547316313, -0.10242096334695816, 0.06708531081676483, 0.05656954273581505, -0.04238105192780495, -0.06685419380664825, 0.020616823807358742, 0.10009865462779999, -0.05718391388654709, -0.014702530577778816, 0.009318586438894272, 0.0039057855028659105, -0.008712888695299625, 0.025708533823490143, 0.026064304634928703, -0.05515429005026817, -0.04206553101539612, -0.018780294805765152, 0.06409601867198944, -0.006797565147280693, -0.016809934750199318, -0.006644763518124819, 0.007168231997638941, -0.05326447635889053, 0.02522166073322296, -0.13924899697303772, 0.13855908811092377, -0.037921320647001266, -0.040397949516773224, 0.0022560181096196175, 0.004502141382545233, 0.05713751167058945, -0.0457504577934742, -0.03009086288511753, -0.04767216369509697, -0.04813729599118233, 0.06892000883817673, -0.008242601528763771, -0.0030557524878531694, 0.024886351078748703, 0.012006397359073162, 0.057192303240299225, -0.0678877905011177, -0.06178385764360428, 0.060488853603601456, 0.04909639433026314, 0.11458048224449158, -0.034498270601034164, 0.004284136928617954, 0.012414052151143551, -0.030718021094799042, 0.015482267364859581, -0.06537692248821259, 0.02716335840523243, 0.015621780417859554, 0.022367587313055992, -0.06614396721124649, -0.009587877430021763, 3.4268540287629195e-33, 0.07015572488307953, -0.08285310864448547, -0.010418306104838848, -0.05575651675462723, -0.031957581639289856, 0.07978814095258713, -0.014994822442531586, 0.02359337918460369, 0.038669269531965256, -0.07382351160049438, 0.09233969449996948, 0.012017943896353245, 0.09825333952903748, -0.01056469976902008, 0.09920822829008102, 0.03080911748111248, 0.07145709544420242, -0.04000728204846382, -0.015989625826478004, -0.03840922191739082, -0.042436663061380386, 0.07664366066455841, 0.0907202735543251, -0.1181584894657135, -0.03694116696715355, -0.004090254195034504, 0.06250236928462982, -0.008512435480952263, -0.03239154443144798, 0.08668757975101471, -0.03024958074092865, -0.04019549489021301, 0.04373139515519142, 0.07501665502786636, 0.02022569254040718, 0.0807248204946518, -0.03401375189423561, -0.07238040864467621, -0.04674531891942024, -0.0007284728344529867, -0.06038549169898033, 0.03414412587881088, -0.06317966431379318, 0.0035135296639055014, 0.011630608700215816, -0.07301260530948639, -0.012838131748139858, -0.09059091657400131, -0.07896363735198975, 0.010040560737252235, -0.03340666741132736, -0.07579071074724197, -0.06019408255815506, -0.09073720872402191, 0.021233590319752693, -0.01820525899529457, -0.014499788172543049, -0.05244307592511177, 0.03644256293773651, -0.005293209571391344, -0.0011350080603733659, 0.02202766016125679, 0.03612213209271431, 0.018125740811228752, 0.05938536301255226, 0.05001552775502205, -0.02845936268568039, -0.10127326101064682, 0.03963868319988251, 0.04026629775762558, 0.05716026946902275, 0.06163514032959938, -0.02630285918712616, -0.03026636689901352, -0.02559811994433403, -0.07259565591812134, -0.020302189514040947, 0.06160124018788338, -0.08959826081991196, -0.021911559626460075, -0.01880745403468609, -0.024573616683483124, 0.013669785112142563, 0.01126331277191639, 0.0244236271828413, -0.09940232336521149, -0.10817170888185501, -0.0018328108126297593, 0.04456532001495361, 0.09769942611455917, -0.02858838252723217, 0.012116007506847382, -0.0023192802909761667, -0.022649558261036873, 0.11493422836065292, -1.3041122848278519e-08, 0.03942326456308365, 0.02886147052049637, -0.03590468317270279, -0.04169495031237602, 0.05569300055503845, -0.008786618709564209, 0.011103902012109756, -0.15726304054260254, 0.018873345106840134, 0.08651681989431381, -0.02940686233341694, 0.015162552706897259, 0.05441590026021004, 0.019424641504883766, 0.017107896506786346, 0.01633792370557785, 0.021991746500134468, -0.02028203383088112, -0.047124069184064865, 0.0020034678746014833, -0.008434783667325974, 0.0097111277282238, 0.007183801848441362, -0.03652122616767883, 0.005624546203762293, -0.04686411842703819, -0.08570318669080734, -0.015473121777176857, -0.052715688943862915, -0.03569439426064491, 0.011417957954108715, 0.06358546763658524, 0.0676538273692131, -0.005333999637514353, -0.03751973807811737, 0.01392762828618288, 0.10538122802972794, -0.03750795125961304, -0.12425437569618225, -0.0057508619502186775, 0.013050820678472519, -0.02913282997906208, 0.019424058496952057, -0.018075713887810707, 0.05797377973794937, -0.006945790257304907, 0.048895806074142456, 0.037946298718452454, 0.0533234067261219, 0.07465391606092453, -0.0241562370210886, 0.0018242710502818227, -0.025679638609290123, 0.055317264050245285, 0.009793048724532127, -0.06437546759843826, -0.02781692147254944, 0.014156883582472801, -0.033933985978364944, 0.004337083548307419, 0.08185531944036484, 0.008892987854778767, 0.0627865418791771, -0.1059817522764206]"
      ]
     },
     "execution_count": 33,
     "metadata": {},
     "output_type": "execute_result"
    }
   ],
   "source": [
    "xq_list[0]"
   ]
  },
  {
   "cell_type": "code",
   "execution_count": 34,
   "metadata": {},
   "outputs": [],
   "source": [
    "query={\n",
    "    \"size\": 10,\n",
    "    \"query\": {\n",
    "        \"knn\": {\n",
    "            \"text_vector\":{\n",
    "                \"vector\":xq_list[0],\n",
    "                \"k\":10\n",
    "            }\n",
    "        }\n",
    "    }\n",
    "}\n",
    "\n",
    "res = aos_client.search(index=index_name, \n",
    "                       body=query,\n",
    "                       stored_fields=[\"text\"])"
   ]
  },
  {
   "cell_type": "code",
   "execution_count": 35,
   "metadata": {},
   "outputs": [
    {
     "name": "stdout",
     "output_type": "stream",
     "text": [
      "Got 50 Hits:\n"
     ]
    }
   ],
   "source": [
    "print(\"Got %d Hits:\" % res['hits']['total']['value'])"
   ]
  },
  {
   "cell_type": "code",
   "execution_count": 36,
   "metadata": {},
   "outputs": [],
   "source": [
    "query_result=[]\n",
    "contexts =\"\""
   ]
  },
  {
   "cell_type": "code",
   "execution_count": 37,
   "metadata": {},
   "outputs": [],
   "source": [
    "counter = 0"
   ]
  },
  {
   "cell_type": "code",
   "execution_count": 38,
   "metadata": {},
   "outputs": [],
   "source": [
    "for hit in res['hits']['hits']:\n",
    "        if counter > 3:\n",
    "            break\n",
    "        contexts +=  hit['fields']['text'][0]+\"\\n---\\n\"\n",
    "        counter += 1"
   ]
  },
  {
   "cell_type": "code",
   "execution_count": 39,
   "metadata": {},
   "outputs": [
    {
     "data": {
      "text/plain": [
       "<class 'str'>"
      ]
     },
     "execution_count": 39,
     "metadata": {},
     "output_type": "execute_result"
    }
   ],
   "source": [
    "type(contexts)"
   ]
  },
  {
   "cell_type": "code",
   "execution_count": 40,
   "metadata": {},
   "outputs": [],
   "source": [
    "for hit in res['hits']['hits']:\n",
    "    row=[hit['_id'],hit['_score'],hit['fields']['text'][0]]\n",
    "    query_result.append(row)"
   ]
  },
  {
   "cell_type": "code",
   "execution_count": 41,
   "metadata": {},
   "outputs": [],
   "source": [
    "query_result_df = pd.DataFrame(data=query_result,columns=[\"_id\",\"_score\",\"text\"])"
   ]
  },
  {
   "cell_type": "code",
   "execution_count": 42,
   "metadata": {},
   "outputs": [
    {
     "data": {
      "text/html": [
       "<div>\n",
       "<style scoped>\n",
       "    .dataframe tbody tr th:only-of-type {\n",
       "        vertical-align: middle;\n",
       "    }\n",
       "\n",
       "    .dataframe tbody tr th {\n",
       "        vertical-align: top;\n",
       "    }\n",
       "\n",
       "    .dataframe thead th {\n",
       "        text-align: right;\n",
       "    }\n",
       "</style>\n",
       "<table border=\"1\" class=\"dataframe\">\n",
       "  <thead>\n",
       "    <tr style=\"text-align: right;\">\n",
       "      <th></th>\n",
       "      <th>_id</th>\n",
       "      <th>_score</th>\n",
       "      <th>text</th>\n",
       "    </tr>\n",
       "  </thead>\n",
       "  <tbody>\n",
       "    <tr>\n",
       "      <th>0</th>\n",
       "      <td>4Cis6IkB6nyGYIwsLyZv</td>\n",
       "      <td>0.707898</td>\n",
       "      <td>1 (a)  Radial symmetry\\nRationalised 2023-24\\n...</td>\n",
       "    </tr>\n",
       "    <tr>\n",
       "      <th>1</th>\n",
       "      <td>4Sis6IkB6nyGYIwsMCZr</td>\n",
       "      <td>0.612489</td>\n",
       "      <td>In\\nsome animals, the body cavity is not line...</td>\n",
       "    </tr>\n",
       "    <tr>\n",
       "      <th>2</th>\n",
       "      <td>6iis6IkB6nyGYIwsOSYq</td>\n",
       "      <td>0.603072</td>\n",
       "      <td>6 Examples of  Coelenterata indicating outline...</td>\n",
       "    </tr>\n",
       "    <tr>\n",
       "      <th>3</th>\n",
       "      <td>4iis6IkB6nyGYIwsMSZk</td>\n",
       "      <td>0.602643</td>\n",
       "      <td>3 Diagrammatic sectional view of :\\n(a) Coelom...</td>\n",
       "    </tr>\n",
       "    <tr>\n",
       "      <th>4</th>\n",
       "      <td>-iis6IkB6nyGYIwsSCaA</td>\n",
       "      <td>0.565705</td>\n",
       "      <td>\\nThis phylum consists of a small group of wor...</td>\n",
       "    </tr>\n",
       "    <tr>\n",
       "      <th>5</th>\n",
       "      <td>_Cis6IkB6nyGYIwsSiZl</td>\n",
       "      <td>0.564052</td>\n",
       "      <td>These are bilaterally\\nsymmetrical, triplobla...</td>\n",
       "    </tr>\n",
       "    <tr>\n",
       "      <th>6</th>\n",
       "      <td>3iis6IkB6nyGYIwsLSZ-</td>\n",
       "      <td>0.558436</td>\n",
       "      <td>, any plane that passes through the centre\\ndo...</td>\n",
       "    </tr>\n",
       "    <tr>\n",
       "      <th>7</th>\n",
       "      <td>DCis6IkB6nyGYIwsXieT</td>\n",
       "      <td>0.555726</td>\n",
       "      <td>Endoskeleton is fully ossified (bony) and the...</td>\n",
       "    </tr>\n",
       "    <tr>\n",
       "      <th>8</th>\n",
       "      <td>Fyis6IkB6nyGYIwsaifZ</td>\n",
       "      <td>0.552549</td>\n",
       "      <td>Aschelminthes are\\npseudocoelomates and  incl...</td>\n",
       "    </tr>\n",
       "    <tr>\n",
       "      <th>9</th>\n",
       "      <td>HCis6IkB6nyGYIwsbyfb</td>\n",
       "      <td>0.550470</td>\n",
       "      <td>How useful is the study of the nature of body ...</td>\n",
       "    </tr>\n",
       "  </tbody>\n",
       "</table>\n",
       "</div>"
      ],
      "text/plain": [
       "                    _id    _score  \\\n",
       "0  4Cis6IkB6nyGYIwsLyZv  0.707898   \n",
       "1  4Sis6IkB6nyGYIwsMCZr  0.612489   \n",
       "2  6iis6IkB6nyGYIwsOSYq  0.603072   \n",
       "3  4iis6IkB6nyGYIwsMSZk  0.602643   \n",
       "4  -iis6IkB6nyGYIwsSCaA  0.565705   \n",
       "5  _Cis6IkB6nyGYIwsSiZl  0.564052   \n",
       "6  3iis6IkB6nyGYIwsLSZ-  0.558436   \n",
       "7  DCis6IkB6nyGYIwsXieT  0.555726   \n",
       "8  Fyis6IkB6nyGYIwsaifZ  0.552549   \n",
       "9  HCis6IkB6nyGYIwsbyfb  0.550470   \n",
       "\n",
       "                                                text  \n",
       "0  1 (a)  Radial symmetry\\nRationalised 2023-24\\n...  \n",
       "1   In\\nsome animals, the body cavity is not line...  \n",
       "2  6 Examples of  Coelenterata indicating outline...  \n",
       "3  3 Diagrammatic sectional view of :\\n(a) Coelom...  \n",
       "4  \\nThis phylum consists of a small group of wor...  \n",
       "5   These are bilaterally\\nsymmetrical, triplobla...  \n",
       "6  , any plane that passes through the centre\\ndo...  \n",
       "7   Endoskeleton is fully ossified (bony) and the...  \n",
       "8   Aschelminthes are\\npseudocoelomates and  incl...  \n",
       "9  How useful is the study of the nature of body ...  "
      ]
     },
     "metadata": {},
     "output_type": "display_data"
    }
   ],
   "source": [
    "display(query_result_df)"
   ]
  },
  {
   "cell_type": "code",
   "execution_count": 43,
   "metadata": {},
   "outputs": [
    {
     "data": {
      "text/plain": [
       "1666"
      ]
     },
     "execution_count": 43,
     "metadata": {},
     "output_type": "execute_result"
    }
   ],
   "source": [
    "len(contexts)"
   ]
  },
  {
   "cell_type": "code",
   "execution_count": 44,
   "metadata": {},
   "outputs": [
    {
     "name": "stdout",
     "output_type": "stream",
     "text": [
      "('1 (a)  Radial symmetry\\n'\n",
      " 'Rationalised 2023-24\\n'\n",
      " 'ANIMAL KINGDOM 3939\\n'\n",
      " '4.1.4 Coelom\\n'\n",
      " 'Presence or absence of a cavity between the body\\n'\n",
      " 'wall and the gut wall is very important in\\n'\n",
      " 'classification. The body cavity, which is lined\\n'\n",
      " 'by mesoderm is called coelom . Animals\\n'\n",
      " 'possessing coelom are called coelomates,  e.g.,\\n'\n",
      " 'annelids, molluscs, arthropods, echinoderms,\\n'\n",
      " 'hemichordates and chordates (Figure 4.3a)\\n'\n",
      " '---\\n'\n",
      " ' In\\n'\n",
      " 'some animals, the body cavity is not lined by\\n'\n",
      " 'mesoderm, instead, the mesoderm is present as\\n'\n",
      " 'scattered pouches in between the ectoderm and\\n'\n",
      " 'endoderm. Such a body cavity is called\\n'\n",
      " 'pseudocoelom and the animals possessing them\\n'\n",
      " 'are called pseudocoelomates,  e.g.,\\n'\n",
      " 'aschelminthes (Figure 4.3b). The animals in\\n'\n",
      " 'which the body cavity is absent are called\\n'\n",
      " 'acoelomates,  e.g., platyhelminthes (Figure 4.3c).Figure 4\\n'\n",
      " '---\\n'\n",
      " '6 Examples of  Coelenterata indicating outline of their body form :\\n'\n",
      " '(a) Aurelia  (Medusa) (b) Adamsia (Polyp)\\n'\n",
      " '(b) (a)Examples: Sycon  (Scypha), Spongilla (Fresh water sponge)  and '\n",
      " 'Euspongia\\n'\n",
      " '(Bath sponge).\\n'\n",
      " '4.2.2 Phylum – Coelenterata (Cnidaria)\\n'\n",
      " 'They are aquatic, mostly marine, sessile or free-swimming, radially\\n'\n",
      " 'symmetrical animals (Figure 4.6). The name cnidaria is derived from the\\n'\n",
      " 'Rationalised 2023-24\\n'\n",
      " '42 BIOLOGY\\n'\n",
      " '4.2\\n'\n",
      " '---\\n'\n",
      " '3 Diagrammatic sectional view of :\\n'\n",
      " '(a) Coelomate (b) Pseudocoelomate\\n'\n",
      " '(c) AcoelomateThose animals in which the developing embryo has a thir d '\n",
      " 'germinal layer ,\\n'\n",
      " 'mesoderm , in between the ectoderm and endoderm, are called\\n'\n",
      " 'triploblastic  animals (platyhelminthes to chordates, Figure 4.2b).\\n'\n",
      " '4.1.5 Segmentation\\n'\n",
      " 'In some animals, the body is externally and internally divided into\\n'\n",
      " 'segments with a serial repetition of at least some organs\\n'\n",
      " '---\\n')\n"
     ]
    }
   ],
   "source": [
    "from pprint import pprint\n",
    "pprint(contexts)"
   ]
  },
  {
   "cell_type": "code",
   "execution_count": 45,
   "metadata": {},
   "outputs": [],
   "source": [
    "reply = generate_answer_from_context(user_input, contexts)"
   ]
  },
  {
   "cell_type": "code",
   "execution_count": 46,
   "metadata": {},
   "outputs": [],
   "source": [
    "from pprint import pprint"
   ]
  },
  {
   "cell_type": "code",
   "execution_count": 47,
   "metadata": {},
   "outputs": [
    {
     "name": "stdout",
     "output_type": "stream",
     "text": [
      "('Coelom is a body cavity that is lined by mesoderm. It is present between the '\n",
      " 'body wall and the gut wall in certain animals. Animals possessing a coelom '\n",
      " 'are called coelomates, which include annelids, molluscs, arthropods, '\n",
      " 'echinoderms, hemichordates, and chordates. The presence or absence of a '\n",
      " 'coelom is an important factor in animal classification.')\n"
     ]
    }
   ],
   "source": [
    "pprint(reply)"
   ]
  }
 ],
 "metadata": {
  "kernelspec": {
   "display_name": "base",
   "language": "python",
   "name": "python3"
  },
  "language_info": {
   "codemirror_mode": {
    "name": "ipython",
    "version": 3
   },
   "file_extension": ".py",
   "mimetype": "text/x-python",
   "name": "python",
   "nbconvert_exporter": "python",
   "pygments_lexer": "ipython3",
   "version": "3.9.13"
  },
  "orig_nbformat": 4
 },
 "nbformat": 4,
 "nbformat_minor": 2
}
