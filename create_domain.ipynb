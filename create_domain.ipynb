{
 "cells": [
  {
   "cell_type": "code",
   "execution_count": 1,
   "metadata": {},
   "outputs": [],
   "source": [
    "domainName = 'biology'"
   ]
  },
  {
   "cell_type": "code",
   "execution_count": 2,
   "metadata": {},
   "outputs": [],
   "source": [
    "import boto3\n",
    "import botocore\n",
    "from botocore.config import Config\n",
    "import time"
   ]
  },
  {
   "cell_type": "code",
   "execution_count": 3,
   "metadata": {},
   "outputs": [],
   "source": [
    "my_config = Config(\n",
    "    # Optionally lets you specify a region other than your default.\n",
    "    region_name='us-east-1'\n",
    ")"
   ]
  },
  {
   "cell_type": "code",
   "execution_count": 4,
   "metadata": {},
   "outputs": [],
   "source": [
    "client = boto3.client('opensearch', config=my_config)"
   ]
  },
  {
   "cell_type": "code",
   "execution_count": 5,
   "metadata": {},
   "outputs": [
    {
     "data": {
      "text/plain": [
       "<botocore.client.OpenSearchService at 0x23e9e779910>"
      ]
     },
     "execution_count": 5,
     "metadata": {},
     "output_type": "execute_result"
    }
   ],
   "source": [
    "client"
   ]
  },
  {
   "cell_type": "code",
   "execution_count": 6,
   "metadata": {},
   "outputs": [],
   "source": [
    "def createDomain(client, domainName):\n",
    "    \"\"\"Creates an Amazon OpenSearch Service domain with the specified options.\"\"\"\n",
    "    response = client.create_domain(\n",
    "        DomainName=domainName,\n",
    "        EngineVersion='OpenSearch_1.0',\n",
    "        ClusterConfig={\n",
    "            'InstanceType': 't2.small.search',\n",
    "            'InstanceCount': 1,\n",
    "            'DedicatedMasterEnabled': True,\n",
    "            'DedicatedMasterType': 't2.small.search',\n",
    "            'DedicatedMasterCount': 2\n",
    "        },\n",
    "        # Many instance types require EBS storage.\n",
    "        EBSOptions={\n",
    "            'EBSEnabled': True,\n",
    "            'VolumeType': 'gp2',\n",
    "            'VolumeSize': 10\n",
    "        },\n",
    "        AccessPolicies=\"{\\\"Version\\\":\\\"2012-10-17\\\",\\\"Statement\\\":[{\\\"Effect\\\":\\\"Allow\\\",\\\"Principal\\\":{\\\"AWS\\\":[\\\"arn:aws:iam::113170463366:user/Administrator\\\"]},\\\"Action\\\":[\\\"es:*\\\"],\\\"Resource\\\":\\\"arn:aws:es:us-west-2:123456789012:domain/my-test-domain/*\\\"}]}\",\n",
    "        NodeToNodeEncryptionOptions={\n",
    "            'Enabled': True\n",
    "        }\n",
    "    )\n",
    "    print(\"Creating domain...\")\n",
    "    print(response)"
   ]
  },
  {
   "cell_type": "code",
   "execution_count": 7,
   "metadata": {},
   "outputs": [
    {
     "name": "stdout",
     "output_type": "stream",
     "text": [
      "Creating domain...\n",
      "{'ResponseMetadata': {'RequestId': '71f82ecf-a73a-4b11-a62c-09a0aaf23d80', 'HTTPStatusCode': 200, 'HTTPHeaders': {'x-amzn-requestid': '71f82ecf-a73a-4b11-a62c-09a0aaf23d80', 'content-type': 'application/json', 'content-length': '2359', 'date': 'Sat, 12 Aug 2023 09:32:06 GMT'}, 'RetryAttempts': 0}, 'DomainStatus': {'DomainId': '113170463366/biology', 'DomainName': 'biology', 'ARN': 'arn:aws:es:us-east-1:113170463366:domain/biology', 'Created': True, 'Deleted': False, 'Processing': True, 'UpgradeProcessing': False, 'EngineVersion': 'OpenSearch_1.0', 'ClusterConfig': {'InstanceType': 't2.small.search', 'InstanceCount': 1, 'DedicatedMasterEnabled': True, 'ZoneAwarenessEnabled': False, 'DedicatedMasterType': 't2.small.search', 'DedicatedMasterCount': 2, 'WarmEnabled': False, 'ColdStorageOptions': {'Enabled': False}, 'MultiAZWithStandbyEnabled': False}, 'EBSOptions': {'EBSEnabled': True, 'VolumeType': 'gp2', 'VolumeSize': 10}, 'AccessPolicies': '{\"Version\":\"2012-10-17\",\"Statement\":[{\"Effect\":\"Allow\",\"Principal\":{\"AWS\":\"arn:aws:iam::113170463366:user/Administrator\"},\"Action\":\"es:*\",\"Resource\":\"arn:aws:es:us-west-2:123456789012:domain/my-test-domain/*\"}]}', 'SnapshotOptions': {'AutomatedSnapshotStartHour': 0}, 'CognitoOptions': {'Enabled': False}, 'EncryptionAtRestOptions': {'Enabled': False}, 'NodeToNodeEncryptionOptions': {'Enabled': True}, 'AdvancedOptions': {'override_main_response_version': 'false', 'rest.action.multi.allow_explicit_index': 'true'}, 'ServiceSoftwareOptions': {'CurrentVersion': '', 'NewVersion': '', 'UpdateAvailable': False, 'Cancellable': False, 'UpdateStatus': 'COMPLETED', 'Description': 'There is no software update available for this domain.', 'AutomatedUpdateDate': datetime.datetime(1970, 1, 1, 5, 30, tzinfo=tzlocal()), 'OptionalDeployment': True}, 'DomainEndpointOptions': {'EnforceHTTPS': False, 'TLSSecurityPolicy': 'Policy-Min-TLS-1-0-2019-07', 'CustomEndpointEnabled': False}, 'AdvancedSecurityOptions': {'Enabled': False, 'InternalUserDatabaseEnabled': False, 'AnonymousAuthEnabled': False}, 'AutoTuneOptions': {'State': 'DISABLED', 'UseOffPeakWindow': False}, 'ChangeProgressDetails': {'ChangeId': '57a9e594-55ae-4615-a717-e533ecf5fdfb'}, 'OffPeakWindowOptions': {'Enabled': True, 'OffPeakWindow': {'WindowStartTime': {'Hours': 2, 'Minutes': 0}}}, 'SoftwareUpdateOptions': {'AutoSoftwareUpdateEnabled': False}}}\n"
     ]
    }
   ],
   "source": [
    "createDomain(client, domainName)"
   ]
  },
  {
   "cell_type": "code",
   "execution_count": null,
   "metadata": {},
   "outputs": [],
   "source": []
  }
 ],
 "metadata": {
  "kernelspec": {
   "display_name": "base",
   "language": "python",
   "name": "python3"
  },
  "language_info": {
   "codemirror_mode": {
    "name": "ipython",
    "version": 3
   },
   "file_extension": ".py",
   "mimetype": "text/x-python",
   "name": "python",
   "nbconvert_exporter": "python",
   "pygments_lexer": "ipython3",
   "version": "3.9.13"
  },
  "orig_nbformat": 4
 },
 "nbformat": 4,
 "nbformat_minor": 2
}
