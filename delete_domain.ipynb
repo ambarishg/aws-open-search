{
 "cells": [
  {
   "cell_type": "code",
   "execution_count": 3,
   "metadata": {},
   "outputs": [],
   "source": [
    "domainName = 'biology'"
   ]
  },
  {
   "cell_type": "code",
   "execution_count": 4,
   "metadata": {},
   "outputs": [],
   "source": [
    "import boto3\n",
    "import botocore\n",
    "from botocore.config import Config\n",
    "import time"
   ]
  },
  {
   "cell_type": "code",
   "execution_count": 5,
   "metadata": {},
   "outputs": [],
   "source": [
    "my_config = Config(\n",
    "    # Optionally lets you specify a region other than your default.\n",
    "    region_name='us-east-1'\n",
    ")"
   ]
  },
  {
   "cell_type": "code",
   "execution_count": 6,
   "metadata": {},
   "outputs": [],
   "source": [
    "client = boto3.client('opensearch', config=my_config)"
   ]
  },
  {
   "cell_type": "code",
   "execution_count": 7,
   "metadata": {},
   "outputs": [
    {
     "data": {
      "text/plain": [
       "<botocore.client.OpenSearchService at 0x22dee0bbfd0>"
      ]
     },
     "execution_count": 7,
     "metadata": {},
     "output_type": "execute_result"
    }
   ],
   "source": [
    "client"
   ]
  },
  {
   "cell_type": "code",
   "execution_count": 8,
   "metadata": {},
   "outputs": [],
   "source": [
    "def createDomain(client, domainName):\n",
    "    \"\"\"Creates an Amazon OpenSearch Service domain with the specified options.\"\"\"\n",
    "    response = client.create_domain(\n",
    "        DomainName=domainName,\n",
    "        EngineVersion='OpenSearch_1.0',\n",
    "        ClusterConfig={\n",
    "            'InstanceType': 't2.small.search',\n",
    "            'InstanceCount': 1,\n",
    "            'DedicatedMasterEnabled': True,\n",
    "            'DedicatedMasterType': 't2.small.search',\n",
    "            'DedicatedMasterCount': 2\n",
    "        },\n",
    "        # Many instance types require EBS storage.\n",
    "        EBSOptions={\n",
    "            'EBSEnabled': True,\n",
    "            'VolumeType': 'gp2',\n",
    "            'VolumeSize': 10\n",
    "        },\n",
    "        AccessPolicies=\"{\\\"Version\\\":\\\"2012-10-17\\\",\\\"Statement\\\":[{\\\"Effect\\\":\\\"Allow\\\",\\\"Principal\\\":{\\\"AWS\\\":[\\\"arn:aws:iam::113170463366:user/Administrator\\\"]},\\\"Action\\\":[\\\"es:*\\\"],\\\"Resource\\\":\\\"arn:aws:es:us-west-2:123456789012:domain/my-test-domain/*\\\"}]}\",\n",
    "        NodeToNodeEncryptionOptions={\n",
    "            'Enabled': True\n",
    "        }\n",
    "    )\n",
    "    print(\"Creating domain...\")\n",
    "    print(response)"
   ]
  },
  {
   "cell_type": "code",
   "execution_count": 9,
   "metadata": {},
   "outputs": [],
   "source": [
    "def deleteDomain(client, domainName):\n",
    "    \"\"\"Deletes an OpenSearch Service domain. Deleting a domain can take several minutes.\"\"\"\n",
    "    try:\n",
    "        response = client.delete_domain(\n",
    "            DomainName=domainName\n",
    "        )\n",
    "        print('Sending domain deletion request...')\n",
    "        print(response)\n",
    "\n",
    "    except botocore.exceptions.ClientError as error:\n",
    "        if error.response['Error']['Code'] == 'ResourceNotFoundException':\n",
    "            print('Domain not found. Please check the domain name.')\n",
    "        else:\n",
    "            raise error"
   ]
  },
  {
   "cell_type": "code",
   "execution_count": 10,
   "metadata": {},
   "outputs": [
    {
     "name": "stdout",
     "output_type": "stream",
     "text": [
      "Sending domain deletion request...\n",
      "{'ResponseMetadata': {'RequestId': 'f5d7e092-a45e-4a64-8bc6-0bdd82ec6a6c', 'HTTPStatusCode': 200, 'HTTPHeaders': {'x-amzn-requestid': 'f5d7e092-a45e-4a64-8bc6-0bdd82ec6a6c', 'content-type': 'application/json', 'content-length': '2452', 'date': 'Sat, 12 Aug 2023 08:48:18 GMT'}, 'RetryAttempts': 0}, 'DomainStatus': {'DomainId': '113170463366/biology', 'DomainName': 'biology', 'ARN': 'arn:aws:es:us-east-1:113170463366:domain/biology', 'Created': True, 'Deleted': True, 'Endpoint': 'search-biology-j6cjabt44maa5ju4lbxfca3jmq.us-east-1.es.amazonaws.com', 'Processing': True, 'UpgradeProcessing': True, 'EngineVersion': 'OpenSearch_1.0', 'ClusterConfig': {'InstanceType': 't2.small.search', 'InstanceCount': 1, 'DedicatedMasterEnabled': True, 'ZoneAwarenessEnabled': False, 'DedicatedMasterType': 't2.small.search', 'DedicatedMasterCount': 2, 'WarmEnabled': False, 'ColdStorageOptions': {'Enabled': False}}, 'EBSOptions': {'EBSEnabled': True, 'VolumeType': 'gp2', 'VolumeSize': 10}, 'AccessPolicies': '{\"Version\":\"2012-10-17\",\"Statement\":[{\"Effect\":\"Allow\",\"Principal\":{\"AWS\":\"arn:aws:iam::113170463366:user/Administrator\"},\"Action\":\"es:*\",\"Resource\":\"arn:aws:es:us-west-2:123456789012:domain/my-test-domain/*\"}]}', 'SnapshotOptions': {'AutomatedSnapshotStartHour': 0}, 'CognitoOptions': {'Enabled': False}, 'EncryptionAtRestOptions': {'Enabled': False}, 'NodeToNodeEncryptionOptions': {'Enabled': True}, 'AdvancedOptions': {'override_main_response_version': 'true', 'rest.action.multi.allow_explicit_index': 'true'}, 'ServiceSoftwareOptions': {'CurrentVersion': 'OpenSearch_1_0_R20221114-P3', 'NewVersion': '', 'UpdateAvailable': False, 'Cancellable': False, 'UpdateStatus': 'NOT_ELIGIBLE', 'Description': 'There is no software update available for this domain.', 'AutomatedUpdateDate': datetime.datetime(1970, 1, 1, 5, 30, tzinfo=tzlocal()), 'OptionalDeployment': True}, 'DomainEndpointOptions': {'EnforceHTTPS': False, 'TLSSecurityPolicy': 'Policy-Min-TLS-1-0-2019-07', 'CustomEndpointEnabled': False}, 'AdvancedSecurityOptions': {'Enabled': False, 'InternalUserDatabaseEnabled': False, 'AnonymousAuthEnabled': False}, 'AutoTuneOptions': {'State': 'DISABLED'}, 'ChangeProgressDetails': {'ChangeId': '4dc6c701-8cf8-4f79-9982-8a7fb7377f6b'}}}\n"
     ]
    }
   ],
   "source": [
    "deleteDomain(client, domainName)"
   ]
  },
  {
   "cell_type": "code",
   "execution_count": null,
   "metadata": {},
   "outputs": [],
   "source": []
  }
 ],
 "metadata": {
  "kernelspec": {
   "display_name": "base",
   "language": "python",
   "name": "python3"
  },
  "language_info": {
   "codemirror_mode": {
    "name": "ipython",
    "version": 3
   },
   "file_extension": ".py",
   "mimetype": "text/x-python",
   "name": "python",
   "nbconvert_exporter": "python",
   "pygments_lexer": "ipython3",
   "version": "3.9.13"
  },
  "orig_nbformat": 4
 },
 "nbformat": 4,
 "nbformat_minor": 2
}
