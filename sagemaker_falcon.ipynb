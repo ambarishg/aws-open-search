{
 "cells": [
  {
   "cell_type": "code",
   "execution_count": 42,
   "metadata": {},
   "outputs": [],
   "source": [
    "from pprint import pprint\n",
    "import json"
   ]
  },
  {
   "cell_type": "code",
   "execution_count": 4,
   "metadata": {},
   "outputs": [],
   "source": [
    "model_id, model_version, = (\n",
    "    \"huggingface-llm-falcon-7b-instruct-bf16\",\n",
    "    \"*\",\n",
    ")"
   ]
  },
  {
   "cell_type": "code",
   "execution_count": 5,
   "metadata": {},
   "outputs": [
    {
     "data": {
      "application/vnd.jupyter.widget-view+json": {
       "model_id": "0947c7f04e97482ab6734a11ac20ab37",
       "version_major": 2,
       "version_minor": 0
      },
      "text/plain": [
       "Dropdown(description='Select a model', index=3, layout=Layout(width='max-content'), options=('huggingface-llm-…"
      ]
     },
     "metadata": {},
     "output_type": "display_data"
    }
   ],
   "source": [
    "from ipywidgets import Dropdown\n",
    "\n",
    "model_ids = [\n",
    "    \"huggingface-llm-falcon-40b-bf16\",\n",
    "    \"huggingface-llm-falcon-40b-instruct-bf16\",\n",
    "    \"huggingface-llm-falcon-7b-bf16\",\n",
    "    \"huggingface-llm-falcon-7b-instruct-bf16\",\n",
    "]\n",
    "\n",
    "# display the model-ids in a dropdown to select a model for inference.\n",
    "model_dropdown = Dropdown(\n",
    "    options=model_ids,\n",
    "    value=model_id,\n",
    "    description=\"Select a model\",\n",
    "    style={\"description_width\": \"initial\"},\n",
    "    layout={\"width\": \"max-content\"},\n",
    ")\n",
    "display(model_dropdown)"
   ]
  },
  {
   "cell_type": "code",
   "execution_count": 6,
   "metadata": {},
   "outputs": [],
   "source": [
    "model_id = model_dropdown.value"
   ]
  },
  {
   "cell_type": "code",
   "execution_count": 7,
   "metadata": {},
   "outputs": [
    {
     "data": {
      "text/plain": [
       "'huggingface-llm-falcon-7b-instruct-bf16'"
      ]
     },
     "execution_count": 7,
     "metadata": {},
     "output_type": "execute_result"
    }
   ],
   "source": [
    "model_id"
   ]
  },
  {
   "cell_type": "code",
   "execution_count": 10,
   "metadata": {},
   "outputs": [],
   "source": [
    "roleName = \"SageMakerForSearch\""
   ]
  },
  {
   "cell_type": "code",
   "execution_count": 11,
   "metadata": {},
   "outputs": [
    {
     "name": "stderr",
     "output_type": "stream",
     "text": [
      "Couldn't call 'get_role' to get Role ARN from role name Administrator to get Role path.\n"
     ]
    },
    {
     "name": "stdout",
     "output_type": "stream",
     "text": [
      "sagemaker role arn: arn:aws:iam::113170463366:role/SageMakerForSearch\n",
      "sagemaker session region: us-east-1\n"
     ]
    }
   ],
   "source": [
    "import sagemaker\n",
    "import time \n",
    "import boto3\n",
    "sess = sagemaker.Session()\n",
    "# sagemaker session bucket -> used for uploading data, models and logs\n",
    "# sagemaker will automatically create this bucket if it not exists\n",
    "sagemaker_session_bucket=None\n",
    "if sagemaker_session_bucket is None and sess is not None:\n",
    "    # set to default bucket if a bucket name is not given\n",
    "    sagemaker_session_bucket = sess.default_bucket()\n",
    "\n",
    "try:\n",
    "    role = sagemaker.get_execution_role()\n",
    "except ValueError:\n",
    "    iam = boto3.client('iam')\n",
    "    role = iam.get_role(RoleName=roleName)['Role']['Arn']\n",
    "\n",
    "sess = sagemaker.Session(default_bucket=sagemaker_session_bucket)\n",
    "\n",
    "print(f\"sagemaker role arn: {role}\")\n",
    "print(f\"sagemaker session region: {sess.boto_region_name}\")"
   ]
  },
  {
   "cell_type": "code",
   "execution_count": 14,
   "metadata": {},
   "outputs": [
    {
     "name": "stdout",
     "output_type": "stream",
     "text": [
      "-----------------!Wall time: 9min 10s\n"
     ]
    }
   ],
   "source": [
    "%%time\n",
    "from sagemaker.jumpstart.model import JumpStartModel\n",
    "\n",
    "my_model = JumpStartModel(model_id=model_id,\n",
    "                          role=role,\n",
    "                          sagemaker_session=sess,)\n",
    "predictor = my_model.deploy()"
   ]
  },
  {
   "cell_type": "code",
   "execution_count": 16,
   "metadata": {},
   "outputs": [
    {
     "name": "stdout",
     "output_type": "stream",
     "text": [
      "\n",
      "Amazon SageMaker is a machine learning platform that allows users to train and deploy machine learning models quickly and easily. It offers a range of services, including automatic model tuning, feature selection, and model evaluation, which can help businesses and individuals make better decisions and create more accurate predictions.\n",
      "Wall time: 3.71 s\n"
     ]
    }
   ],
   "source": [
    "%%time\n",
    "prompt = \"Tell me about Amazon SageMaker.\"\n",
    "payload = {\n",
    "    \"inputs\": prompt,\n",
    "    \"parameters\": {\n",
    "        \"do_sample\": True,\n",
    "        \"top_p\": 0.9,\n",
    "        \"temperature\": 0.8,\n",
    "        \"max_new_tokens\": 1024,\n",
    "        \"stop\": [\"<|endoftext|>\", \"</s>\"],\n",
    "    },\n",
    "}\n",
    "\n",
    "response = predictor.predict(payload)\n",
    "print(response[0][\"generated_text\"])"
   ]
  },
  {
   "cell_type": "code",
   "execution_count": 17,
   "metadata": {},
   "outputs": [],
   "source": [
    "prompt = \"\"\"Answer based on context:\\n\\n{context}\\n\\n{question}\"\"\""
   ]
  },
  {
   "cell_type": "code",
   "execution_count": 18,
   "metadata": {},
   "outputs": [],
   "source": [
    "context = \"\"\"\n",
    "The men's high jump event at the 2020 Summer Olympics took place between 30 July and 1 August 2021 at the Olympic Stadium.\n",
    "33 athletes from 24 nations competed; the total possible number depended on how many nations would use universality places\n",
    "to enter athletes in addition to the 32 qualifying through mark or ranking (no universality places were used in 2021).\n",
    "Italian athlete Gianmarco Tamberi along with Qatari athlete Mutaz Essa Barshim emerged as joint winners of the event following\n",
    "a tie between both of them as they cleared 2.37m. Both Tamberi and Barshim agreed to share the gold medal in a rare instance\n",
    "where the athletes of different nations had agreed to share the same medal in the history of Olympics.\n",
    "Barshim in particular was heard to ask a competition official \"Can we have two golds?\" in response to being offered a\n",
    "'jump off'. Maksim Nedasekau of Belarus took bronze. The medals were the first ever in the men's high jump for Italy and\n",
    "Belarus, the first gold in the men's high jump for Italy and Qatar, and the third consecutive medal in the men's high jump\n",
    "for Qatar (all by Barshim). Barshim became only the second man to earn three medals in high jump, joining Patrik Sjöberg\n",
    "of Sweden (1984 to 1992).\"\"\"\n",
    "\n",
    "question = \"Who won the gold in 2020 Summer Olympics men's high jump ?\""
   ]
  },
  {
   "cell_type": "code",
   "execution_count": 19,
   "metadata": {},
   "outputs": [],
   "source": [
    "text_input = prompt.replace(\"{context}\", context)\n",
    "text_input = text_input.replace(\"{question}\", question)"
   ]
  },
  {
   "cell_type": "code",
   "execution_count": 20,
   "metadata": {},
   "outputs": [
    {
     "data": {
      "text/plain": [
       "'Answer based on context:\\n\\n\\nThe men\\'s high jump event at the 2020 Summer Olympics took place between 30 July and 1 August 2021 at the Olympic Stadium.\\n33 athletes from 24 nations competed; the total possible number depended on how many nations would use universality places\\nto enter athletes in addition to the 32 qualifying through mark or ranking (no universality places were used in 2021).\\nItalian athlete Gianmarco Tamberi along with Qatari athlete Mutaz Essa Barshim emerged as joint winners of the event following\\na tie between both of them as they cleared 2.37m. Both Tamberi and Barshim agreed to share the gold medal in a rare instance\\nwhere the athletes of different nations had agreed to share the same medal in the history of Olympics.\\nBarshim in particular was heard to ask a competition official \"Can we have two golds?\" in response to being offered a\\n\\'jump off\\'. Maksim Nedasekau of Belarus took bronze. The medals were the first ever in the men\\'s high jump for Italy and\\nBelarus, the first gold in the men\\'s high jump for Italy and Qatar, and the third consecutive medal in the men\\'s high jump\\nfor Qatar (all by Barshim). Barshim became only the second man to earn three medals in high jump, joining Patrik Sjöberg\\nof Sweden (1984 to 1992).\\n\\nWho won the gold in 2020 Summer Olympics men\\'s high jump ?'"
      ]
     },
     "execution_count": 20,
     "metadata": {},
     "output_type": "execute_result"
    }
   ],
   "source": [
    "text_input"
   ]
  },
  {
   "cell_type": "code",
   "execution_count": 21,
   "metadata": {},
   "outputs": [],
   "source": [
    "payload = {\n",
    "    \"inputs\": text_input,\n",
    "    \"parameters\": {\n",
    "        \"do_sample\": True,\n",
    "        \"top_p\": 0.9,\n",
    "        \"temperature\": 0.8,\n",
    "        \"max_new_tokens\": 1024,\n",
    "        \"stop\": [\"<|endoftext|>\", \"</s>\"],\n",
    "    },\n",
    "}"
   ]
  },
  {
   "cell_type": "code",
   "execution_count": 22,
   "metadata": {},
   "outputs": [
    {
     "name": "stdout",
     "output_type": "stream",
     "text": [
      "\n",
      "The gold in 2020 Summer Olympics men's high jump was shared by Gianmarco Tamberi of Italy and Mutaz Essa Barshim of Qatar.\n"
     ]
    }
   ],
   "source": [
    "response = predictor.predict(payload)\n",
    "print(response[0][\"generated_text\"])"
   ]
  },
  {
   "cell_type": "code",
   "execution_count": 24,
   "metadata": {},
   "outputs": [
    {
     "name": "stdout",
     "output_type": "stream",
     "text": [
      "('\\n'\n",
      " \"The gold in 2020 Summer Olympics men's high jump was shared by Gianmarco \"\n",
      " 'Tamberi of Italy and Mutaz Essa Barshim of Qatar.')\n"
     ]
    }
   ],
   "source": [
    "pprint(response[0][\"generated_text\"])"
   ]
  },
  {
   "cell_type": "code",
   "execution_count": 49,
   "metadata": {},
   "outputs": [],
   "source": [
    "context =\"\"\"\n",
    "1 (a)  Radial symmetry\\n'\n",
    " 'Rationalised 2023-24\\n'\n",
    " 'ANIMAL KINGDOM 3939\\n'\n",
    " '4.1.4 Coelom\\n'\n",
    " 'Presence or absence of a cavity between the body\\n'\n",
    " 'wall and the gut wall is very important in\\n'\n",
    " 'classification. The body cavity, which is lined\\n'\n",
    " 'by mesoderm is called coelom . Animals\\n'\n",
    " 'possessing coelom are called coelomates,  e.g.,\\n'\n",
    " 'annelids, molluscs, arthropods, echinoderms,\\n'\n",
    " 'hemichordates and chordates (Figure 4.3a)\\n'\n",
    " '---\\n'\n",
    " ' In\\n'\n",
    " 'some animals, the body cavity is not lined by\\n'\n",
    " 'mesoderm, instead, the mesoderm is present as\\n'\n",
    " 'scattered pouches in between the ectoderm and\\n'\n",
    " 'endoderm. Such a body cavity is called\\n'\n",
    " 'pseudocoelom and the animals possessing them\\n'\n",
    " 'are called pseudocoelomates,  e.g.,\\n'\n",
    " 'aschelminthes (Figure 4.3b). The animals in\\n'\n",
    " 'which the body cavity is absent are called\\n'\n",
    " 'acoelomates,  e.g., platyhelminthes (Figure 4.3c).Figure 4\\n'\n",
    " '---\\n'\n",
    " '6 Examples of  Coelenterata indicating outline of their body form :\\n'\n",
    " '(a) Aurelia  (Medusa) (b) Adamsia (Polyp)\\n'\n",
    " '(b) (a)Examples: Sycon  (Scypha), Spongilla (Fresh water sponge)  and '\n",
    " 'Euspongia\\n'\n",
    " '(Bath sponge).\\n'\n",
    " '4.2.2 Phylum – Coelenterata (Cnidaria)\\n'\n",
    " 'They are aquatic, mostly marine, sessile or free-swimming, radially\\n'\n",
    " 'symmetrical animals (Figure 4.6). The name cnidaria is derived from the\\n'\n",
    " 'Rationalised 2023-24\\n'\n",
    " '42 BIOLOGY\\n'\n",
    " '4.2\\n'\n",
    " '---\\n'\n",
    " '3 Diagrammatic sectional view of :\\n'\n",
    " '(a) Coelomate (b) Pseudocoelomate\\n'\n",
    " '(c) AcoelomateThose animals in which the developing embryo has a thir d '\n",
    " 'germinal layer ,\\n'\n",
    " 'mesoderm , in between the ectoderm and endoderm, are called\\n'\n",
    " 'triploblastic  animals (platyhelminthes to chordates, Figure 4.2b).\\n'\n",
    " '4.1.5 Segmentation\\n'\n",
    " 'In some animals, the body is externally and internally divided into\\n'\n",
    " 'segments with a serial repetition of at least some organs\\n'\n",
    " '---\\n\n",
    " \"\"\""
   ]
  },
  {
   "cell_type": "code",
   "execution_count": 50,
   "metadata": {},
   "outputs": [],
   "source": [
    "question = \"What is Coelom ?\""
   ]
  },
  {
   "cell_type": "code",
   "execution_count": 51,
   "metadata": {},
   "outputs": [],
   "source": [
    "text_input = prompt.replace(\"{context}\", context)\n",
    "text_input = text_input.replace(\"{question}\", question)"
   ]
  },
  {
   "cell_type": "code",
   "execution_count": 52,
   "metadata": {},
   "outputs": [
    {
     "data": {
      "text/plain": [
       "\"Answer based on context:\\n\\n\\n1 (a)  Radial symmetry\\n'\\n 'Rationalised 2023-24\\n'\\n 'ANIMAL KINGDOM 3939\\n'\\n '4.1.4 Coelom\\n'\\n 'Presence or absence of a cavity between the body\\n'\\n 'wall and the gut wall is very important in\\n'\\n 'classification. The body cavity, which is lined\\n'\\n 'by mesoderm is called coelom . Animals\\n'\\n 'possessing coelom are called coelomates,  e.g.,\\n'\\n 'annelids, molluscs, arthropods, echinoderms,\\n'\\n 'hemichordates and chordates (Figure 4.3a)\\n'\\n '---\\n'\\n ' In\\n'\\n 'some animals, the body cavity is not lined by\\n'\\n 'mesoderm, instead, the mesoderm is present as\\n'\\n 'scattered pouches in between the ectoderm and\\n'\\n 'endoderm. Such a body cavity is called\\n'\\n 'pseudocoelom and the animals possessing them\\n'\\n 'are called pseudocoelomates,  e.g.,\\n'\\n 'aschelminthes (Figure 4.3b). The animals in\\n'\\n 'which the body cavity is absent are called\\n'\\n 'acoelomates,  e.g., platyhelminthes (Figure 4.3c).Figure 4\\n'\\n '---\\n'\\n '6 Examples of  Coelenterata indicating outline of their body form :\\n'\\n '(a) Aurelia  (Medusa) (b) Adamsia (Polyp)\\n'\\n '(b) (a)Examples: Sycon  (Scypha), Spongilla (Fresh water sponge)  and '\\n 'Euspongia\\n'\\n '(Bath sponge).\\n'\\n '4.2.2 Phylum – Coelenterata (Cnidaria)\\n'\\n 'They are aquatic, mostly marine, sessile or free-swimming, radially\\n'\\n 'symmetrical animals (Figure 4.6). The name cnidaria is derived from the\\n'\\n 'Rationalised 2023-24\\n'\\n '42 BIOLOGY\\n'\\n '4.2\\n'\\n '---\\n'\\n '3 Diagrammatic sectional view of :\\n'\\n '(a) Coelomate (b) Pseudocoelomate\\n'\\n '(c) AcoelomateThose animals in which the developing embryo has a thir d '\\n 'germinal layer ,\\n'\\n 'mesoderm , in between the ectoderm and endoderm, are called\\n'\\n 'triploblastic  animals (platyhelminthes to chordates, Figure 4.2b).\\n'\\n '4.1.5 Segmentation\\n'\\n 'In some animals, the body is externally and internally divided into\\n'\\n 'segments with a serial repetition of at least some organs\\n'\\n '---\\n\\n \\n\\nWhat is Coelom ?\""
      ]
     },
     "execution_count": 52,
     "metadata": {},
     "output_type": "execute_result"
    }
   ],
   "source": [
    "text_input"
   ]
  },
  {
   "cell_type": "code",
   "execution_count": 53,
   "metadata": {},
   "outputs": [],
   "source": [
    "payload = {\n",
    "    \"inputs\": text_input,\n",
    "    \"parameters\": {\n",
    "        \"do_sample\": True,\n",
    "        \"top_p\": 0.9,\n",
    "        \"temperature\": 0.1,\n",
    "        \"max_new_tokens\": 1024,\n",
    "        \"stop\": [\"<|endoftext|>\", \"</s>\"],\n",
    "    },\n",
    "}"
   ]
  },
  {
   "cell_type": "code",
   "execution_count": 54,
   "metadata": {},
   "outputs": [
    {
     "name": "stdout",
     "output_type": "stream",
     "text": [
      "\n",
      "Coelom is a body cavity present in animals that is lined by mesoderm. It is present between the body and the gut wall and is important in classifying animals.\n"
     ]
    }
   ],
   "source": [
    "response = predictor.predict(payload)\n",
    "print(response[0][\"generated_text\"])"
   ]
  },
  {
   "cell_type": "code",
   "execution_count": 55,
   "metadata": {},
   "outputs": [
    {
     "name": "stdout",
     "output_type": "stream",
     "text": [
      "('\\n'\n",
      " 'Coelom is a body cavity present in animals that is lined by mesoderm. It is '\n",
      " 'present between the body and the gut wall and is important in classifying '\n",
      " 'animals.')\n"
     ]
    }
   ],
   "source": [
    "pprint(response[0][\"generated_text\"])"
   ]
  },
  {
   "cell_type": "code",
   "execution_count": 56,
   "metadata": {},
   "outputs": [
    {
     "name": "stderr",
     "output_type": "stream",
     "text": [
      "The endpoint attribute has been renamed in sagemaker>=2.\n",
      "See: https://sagemaker.readthedocs.io/en/stable/v2.html for details.\n"
     ]
    },
    {
     "data": {
      "text/plain": [
       "'hf-llm-falcon-7b-instruct-bf16-2023-08-12-14-37-19-114'"
      ]
     },
     "execution_count": 56,
     "metadata": {},
     "output_type": "execute_result"
    }
   ],
   "source": [
    "predictor.endpoint"
   ]
  },
  {
   "cell_type": "code",
   "execution_count": 57,
   "metadata": {},
   "outputs": [],
   "source": [
    "llm_endpoint = 'hf-llm-falcon-7b-instruct-bf16-2023-08-12-14-37-19-114'"
   ]
  },
  {
   "cell_type": "code",
   "execution_count": 58,
   "metadata": {},
   "outputs": [],
   "source": [
    "def query_endpoint_with_json_payload(encoded_json, endpoint_name, content_type=\"application/json\"):\n",
    "    client = boto3.client(\"runtime.sagemaker\")\n",
    "    response = client.invoke_endpoint(\n",
    "        EndpointName=endpoint_name, ContentType=content_type, Body=encoded_json\n",
    "    )\n",
    "    return response"
   ]
  },
  {
   "cell_type": "code",
   "execution_count": 59,
   "metadata": {},
   "outputs": [],
   "source": [
    "response2 = query_endpoint_with_json_payload(json.dumps(payload).encode(\"utf-8\"), llm_endpoint)"
   ]
  },
  {
   "cell_type": "code",
   "execution_count": 60,
   "metadata": {},
   "outputs": [],
   "source": [
    "model_predictions = json.loads(response2[\"Body\"].read())"
   ]
  },
  {
   "cell_type": "code",
   "execution_count": 61,
   "metadata": {},
   "outputs": [
    {
     "data": {
      "text/plain": [
       "'\\nCoelom is a body cavity present in animals that is lined by mesoderm. It is a fluid-filled space located between the body and the gut wall. It is present in animals that are classified as coelomates.'"
      ]
     },
     "execution_count": 61,
     "metadata": {},
     "output_type": "execute_result"
    }
   ],
   "source": [
    "model_predictions[0]['generated_text']"
   ]
  },
  {
   "cell_type": "code",
   "execution_count": null,
   "metadata": {},
   "outputs": [],
   "source": []
  }
 ],
 "metadata": {
  "kernelspec": {
   "display_name": "base",
   "language": "python",
   "name": "python3"
  },
  "language_info": {
   "codemirror_mode": {
    "name": "ipython",
    "version": 3
   },
   "file_extension": ".py",
   "mimetype": "text/x-python",
   "name": "python",
   "nbconvert_exporter": "python",
   "pygments_lexer": "ipython3",
   "version": "3.9.13"
  },
  "orig_nbformat": 4
 },
 "nbformat": 4,
 "nbformat_minor": 2
}
